{
 "cells": [
  {
   "cell_type": "code",
   "execution_count": 1,
   "id": "4218dec934302d75",
   "metadata": {
    "ExecuteTime": {
     "end_time": "2024-01-10T15:56:46.353075Z",
     "start_time": "2024-01-10T15:56:46.349237Z"
    }
   },
   "outputs": [],
   "source": [
    "%%capture\n",
    "cd .."
   ]
  },
  {
   "cell_type": "code",
   "execution_count": 2,
   "id": "6668c82c",
   "metadata": {
    "ExecuteTime": {
     "end_time": "2024-01-10T15:56:48.219439Z",
     "start_time": "2024-01-10T15:56:46.354972Z"
    }
   },
   "outputs": [],
   "source": [
    "%%capture\n",
    "!pip install uci-dataset"
   ]
  },
  {
   "cell_type": "code",
   "execution_count": null,
   "id": "d58ed0f00645f76c",
   "metadata": {
    "ExecuteTime": {
     "end_time": "2024-01-10T15:56:50.022409Z",
     "start_time": "2024-01-10T15:56:48.227054Z"
    }
   },
   "outputs": [],
   "source": [
    "import matplotlib.pyplot as plt\n",
    "import uci_dataset as dataset\n",
    "from sklearn import model_selection, metrics\n",
    "from sklearn.preprocessing import OrdinalEncoder\n",
    "from palma import Project, ModelEvaluation, ModelSelector\n",
    "from palma.components import ScoringAnalysis, ShapAnalysis\n",
    "from palma.utils import plotting"
   ]
  },
  {
   "cell_type": "code",
   "execution_count": null,
   "id": "35a8e184d448ea8c",
   "metadata": {
    "ExecuteTime": {
     "end_time": "2024-01-10T15:56:50.666046Z",
     "start_time": "2024-01-10T15:56:50.024307Z"
    }
   },
   "outputs": [],
   "source": [
    "data = dataset.load_credit_approval()\n",
    "X = data.drop(columns=\"A16\")\n",
    "cat = [\"A13\", \"A4\", \"A6\", \"A7\", \"A5\"]\n",
    "y = data[\"A16\"] == \"+\"\n",
    "X[\"A12\"] = X[\"A12\"] == \"t\"\n",
    "X[\"A9\"] = X[\"A9\"] == \"t\"\n",
    "X[\"A10\"] = X[\"A10\"] == \"t\"\n",
    "X[\"A1\"] = X[\"A1\"] == \"a\"\n",
    "X[cat] = OrdinalEncoder().fit_transform(X[cat])"
   ]
  },
  {
   "cell_type": "markdown",
   "id": "ef20f966",
   "metadata": {},
   "source": [
    "**Create the project**\n",
    "To create vanilla project (without components), only input data $X$, target data $y$ and validation method needs to be provided"
   ]
  },
  {
   "cell_type": "code",
   "execution_count": null,
   "id": "98817d50",
   "metadata": {
    "ExecuteTime": {
     "end_time": "2024-01-10T15:56:50.685825Z",
     "start_time": "2024-01-10T15:56:50.669785Z"
    }
   },
   "outputs": [],
   "source": [
    "project = Project(problem=\"classification\", project_name=\"test\")\n",
    "project.start(\n",
    "    X, y,\n",
    "    splitter=model_selection.ShuffleSplit(n_splits=4, random_state=42))"
   ]
  },
  {
   "cell_type": "markdown",
   "id": "257dc55d",
   "metadata": {},
   "source": [
    "Here are representation of the validation strategy\n",
    "* For validation steps\n",
    "* For test steps"
   ]
  },
  {
   "cell_type": "code",
   "execution_count": null,
   "id": "90113167",
   "metadata": {
    "ExecuteTime": {
     "end_time": "2024-01-10T15:56:52.311689Z",
     "start_time": "2024-01-10T15:56:50.687975Z"
    }
   },
   "outputs": [],
   "source": [
    "res = plotting.plot_splitting_strategy(\n",
    "    project.X, project.y, \n",
    "    iter_cross_validation=project.validation_strategy.indexes_val,\n",
    "    cmap=\"rainbow_r\")"
   ]
  },
  {
   "cell_type": "code",
   "execution_count": null,
   "id": "fce36c07",
   "metadata": {
    "ExecuteTime": {
     "end_time": "2024-01-10T15:56:53.104869Z",
     "start_time": "2024-01-10T15:56:52.313149Z"
    }
   },
   "outputs": [],
   "source": [
    "res = plotting.plot_splitting_strategy(\n",
    "    project.X, project.y, \n",
    "    iter_cross_validation=project.validation_strategy.indexes_train_test,\n",
    "    cmap=\"rainbow_r\")"
   ]
  },
  {
   "cell_type": "markdown",
   "id": "128ef0b7",
   "metadata": {},
   "source": [
    "**Run Opimization** \n",
    "Using the FLAML library, the best model (in a given estimator family) is searched"
   ]
  },
  {
   "cell_type": "code",
   "execution_count": null,
   "id": "046d0e74",
   "metadata": {
    "ExecuteTime": {
     "end_time": "2024-01-10T15:57:05.696042Z",
     "start_time": "2024-01-10T15:56:53.106094Z"
    }
   },
   "outputs": [],
   "source": [
    "%%capture\n",
    "ms = ModelSelector(engine=\"FlamlOptimizer\",\n",
    "                    engine_parameters=dict(time_budget=10))\n",
    "ms.start(project)"
   ]
  },
  {
   "cell_type": "code",
   "execution_count": null,
   "id": "f376757ba414203d",
   "metadata": {
    "ExecuteTime": {
     "end_time": "2024-01-10T15:57:05.703763Z",
     "start_time": "2024-01-10T15:57:05.697406Z"
    }
   },
   "outputs": [],
   "source": [
    "ms.best_model_"
   ]
  },
  {
   "cell_type": "markdown",
   "id": "92e71ae6",
   "metadata": {},
   "source": [
    "**Analyse model** Once the best parameters and model is found, use the `ModelEvaluation` api to assess performance. Several built-in component are provided :\n",
    "- `ScoringAnalysis`\n",
    "- `RegressionAnalysis`\n",
    "- `ShapAnalysis`\n",
    "\n",
    "They can be related to either validation indexes (optimized by `ModelSelector`) or train/test indexes "
   ]
  },
  {
   "cell_type": "code",
   "execution_count": null,
   "id": "f1f2fa32",
   "metadata": {
    "ExecuteTime": {
     "end_time": "2024-01-10T15:57:17.870353Z",
     "start_time": "2024-01-10T15:57:05.706522Z"
    }
   },
   "outputs": [],
   "source": [
    "%%capture\n",
    "model = ModelEvaluation(estimator=ms.best_model_)\n",
    "model.add(ScoringAnalysis(on=\"indexes_val\"))\n",
    "model.add(ShapAnalysis(on=\"indexes_val\", n_shap=100))\n",
    "model.fit(project)"
   ]
  },
  {
   "cell_type": "code",
   "execution_count": null,
   "id": "7cdffff4",
   "metadata": {
    "ExecuteTime": {
     "end_time": "2024-01-10T15:57:17.873832Z",
     "start_time": "2024-01-10T15:57:17.871779Z"
    }
   },
   "outputs": [],
   "source": [
    "analyser = model.components[\"ScoringAnalysis\"]\n",
    "shap_analyser = model.components[\"ShapAnalysis\"]"
   ]
  },
  {
   "cell_type": "code",
   "execution_count": null,
   "id": "ffa5a2d0",
   "metadata": {
    "ExecuteTime": {
     "end_time": "2024-01-10T15:57:18.585216Z",
     "start_time": "2024-01-10T15:57:17.875710Z"
    }
   },
   "outputs": [],
   "source": [
    "\n",
    "f, ax = plt.subplots(figsize=(9, 5), ncols=2)\n",
    "\n",
    "plt.sca(ax[0])\n",
    "analyser.plot_roc_curve(plot_method=\"beam\")\n",
    "analyser.plot_roc_curve(plot_method=\"mean\")\n",
    "plt.sca(ax[1]); analyser.plot_roc_curve(plot_method=\"all\", cmap=\"rainbow\")\n",
    "plt.show()\n",
    "print()"
   ]
  },
  {
   "cell_type": "markdown",
   "id": "9eec8602",
   "metadata": {},
   "source": [
    "**[FOCUS] Explanantion tools**\n",
    "\n",
    "1 . variable importance"
   ]
  },
  {
   "cell_type": "code",
   "execution_count": null,
   "id": "b695f843",
   "metadata": {
    "ExecuteTime": {
     "end_time": "2024-01-10T15:57:19.039030Z",
     "start_time": "2024-01-10T15:57:18.586257Z"
    }
   },
   "outputs": [],
   "source": [
    "f, ax = plt.subplots(figsize=(8, 6), ncols=3, \n",
    "                     # sharey=True\n",
    "                    )\n",
    "plt.sca(ax[0])\n",
    "analyser.plot_variable_importance(mode=\"minmax\", color=\"blue\")\n",
    "plt.sca(ax[1])\n",
    "analyser.plot_variable_importance(mode=\"std\", color=\"lightgreen\")\n",
    "plt.sca(ax[2])\n",
    "analyser.plot_variable_importance(mode=\"boxplot\", cmap=\"rainbow_r\")\n",
    "plt.show()\n",
    "\n",
    "\n",
    "print()"
   ]
  },
  {
   "cell_type": "markdown",
   "id": "4cc8c99f",
   "metadata": {},
   "source": [
    "2. shap explanation "
   ]
  },
  {
   "cell_type": "code",
   "execution_count": null,
   "id": "93b60a0c",
   "metadata": {
    "ExecuteTime": {
     "end_time": "2024-01-10T15:57:19.778092Z",
     "start_time": "2024-01-10T15:57:19.040505Z"
    },
    "scrolled": false
   },
   "outputs": [],
   "source": [
    "plt.figure(figsize=(5, 5)); shap_analyser.plot_shap_decision_plot()\n",
    "plt.figure(figsize=(5, 5)); shap_analyser.plot_shap_summary_plot()"
   ]
  },
  {
   "cell_type": "markdown",
   "id": "8826b590",
   "metadata": {},
   "source": [
    "**Compute classification threshold**\n",
    "Three methods are available to set the classification threshold\n",
    "\n",
    "1. Corresponding to a provided fractile of the population targeted to one\n",
    "2. Corresponding to a provided fractile of the positive true rate (recall) targeted to one\n",
    "3. Corresponding to the optimized value of a provided metric"
   ]
  },
  {
   "cell_type": "code",
   "execution_count": null,
   "id": "46347c99",
   "metadata": {
    "ExecuteTime": {
     "end_time": "2024-01-10T15:57:19.837161Z",
     "start_time": "2024-01-10T15:57:19.779571Z"
    }
   },
   "outputs": [],
   "source": [
    "print(analyser.compute_threshold(method=\"total_population\", value=0.5))\n",
    "print(analyser.compute_threshold(method=\"fpr\", value=0.5))\n",
    "print(analyser.compute_threshold(method=\"optimize_metric\",  metric=metrics.accuracy_score))"
   ]
  },
  {
   "cell_type": "markdown",
   "id": "4ee7597a",
   "metadata": {},
   "source": [
    "**Confusion matrix** corresponding to target 50% of the total population"
   ]
  },
  {
   "cell_type": "code",
   "execution_count": null,
   "id": "c8f95769",
   "metadata": {
    "ExecuteTime": {
     "end_time": "2024-01-10T15:57:19.993314Z",
     "start_time": "2024-01-10T15:57:19.838522Z"
    }
   },
   "outputs": [],
   "source": [
    "analyser.compute_threshold(method=\"total_population\", value=0.5)\n",
    "analyser.confusion_matrix(in_percentage=True)"
   ]
  },
  {
   "cell_type": "markdown",
   "id": "39fce1fb",
   "metadata": {},
   "source": [
    "**Confusion matrix** corresponding to an accpetance of 50% of false positive rate "
   ]
  },
  {
   "cell_type": "code",
   "execution_count": null,
   "id": "709b39ce",
   "metadata": {
    "ExecuteTime": {
     "end_time": "2024-01-10T15:57:20.136387Z",
     "start_time": "2024-01-10T15:57:19.994874Z"
    }
   },
   "outputs": [],
   "source": [
    "analyser.compute_threshold(method=\"fpr\",value=0.5)\n",
    "analyser.confusion_matrix(in_percentage=True)"
   ]
  },
  {
   "cell_type": "code",
   "execution_count": null,
   "id": "92d00991",
   "metadata": {
    "ExecuteTime": {
     "end_time": "2024-01-10T15:57:20.360517Z",
     "start_time": "2024-01-10T15:57:20.137795Z"
    }
   },
   "outputs": [],
   "source": [
    "plt.figure(figsize=(6, 6))\n",
    "\n",
    "analyser.plot_roc_curve(plot_method=\"all\", cmap=\"rocket\")\n",
    "analyser.plot_threshold(label=\"Threshold (FPR = 0.5)\")\n",
    "plt.legend(loc=4)"
   ]
  }
 ],
 "metadata": {
  "hide_input": false,
  "kernelspec": {
   "display_name": "Python 3 (ipykernel)",
   "language": "python",
   "name": "python3"
  },
  "language_info": {
   "codemirror_mode": {
    "name": "ipython",
    "version": 3
   },
   "file_extension": ".py",
   "mimetype": "text/x-python",
   "name": "python",
   "nbconvert_exporter": "python",
   "pygments_lexer": "ipython3",
   "version": "3.11.0"
  },
  "toc": {
   "base_numbering": 1,
   "nav_menu": {},
   "number_sections": true,
   "sideBar": true,
   "skip_h1_title": false,
   "title_cell": "Table of Contents",
   "title_sidebar": "Contents",
   "toc_cell": false,
   "toc_position": {},
   "toc_section_display": true,
   "toc_window_display": false
  },
  "varInspector": {
   "cols": {
    "lenName": 16,
    "lenType": 16,
    "lenVar": 40
   },
   "kernels_config": {
    "python": {
     "delete_cmd_postfix": "",
     "delete_cmd_prefix": "del ",
     "library": "var_list.py",
     "varRefreshCmd": "print(var_dic_list())"
    },
    "r": {
     "delete_cmd_postfix": ") ",
     "delete_cmd_prefix": "rm(",
     "library": "var_list.r",
     "varRefreshCmd": "cat(var_dic_list()) "
    }
   },
   "types_to_exclude": [
    "module",
    "function",
    "builtin_function_or_method",
    "instance",
    "_Feature"
   ],
   "window_display": false
  }
 },
 "nbformat": 4,
 "nbformat_minor": 5
}
