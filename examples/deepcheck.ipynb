{
 "cells": [
  {
   "cell_type": "code",
   "execution_count": 1,
   "id": "initial_id",
   "metadata": {
    "ExecuteTime": {
     "end_time": "2024-01-15T12:54:35.753589Z",
     "start_time": "2024-01-15T12:54:35.750257Z"
    }
   },
   "outputs": [],
   "source": [
    "%%capture\n",
    "cd .."
   ]
  },
  {
   "cell_type": "code",
   "execution_count": 2,
   "id": "13f6945fd3b104a7",
   "metadata": {
    "ExecuteTime": {
     "end_time": "2024-01-15T12:54:39.118554Z",
     "start_time": "2024-01-15T12:54:35.754737Z"
    }
   },
   "outputs": [],
   "source": [
    "%%capture\n",
    "import pandas as pd\n",
    "from tempfile import gettempdir\n",
    "\n",
    "from sklearn import model_selection\n",
    "from palma.datasets import load_credit_approval\n",
    "from palma import Project, ModelSelector\n",
    "from palma.components import DeepCheck, FileSystemLogger, Leakage\n",
    "from palma import set_logger\n",
    "\n",
    "# set_logger(FileSystemLogger(f'{gettempdir()}/fs-logger'))\n",
    "\n",
    "X, y = load_credit_approval()\n"
   ]
  },
  {
   "cell_type": "code",
   "execution_count": 3,
   "id": "c8753b3c",
   "metadata": {
    "ExecuteTime": {
     "end_time": "2024-01-15T12:54:52.510171Z",
     "start_time": "2024-01-15T12:54:39.123512Z"
    }
   },
   "outputs": [],
   "source": [
    "%%capture\n",
    "project = Project(problem=\"classification\", project_name=\"test\")\n",
    "project.add(DeepCheck())\n",
    "project.add(Leakage())\n",
    "project.start(\n",
    "    X, y,\n",
    "    splitter=model_selection.ShuffleSplit(\n",
    "        n_splits=10, random_state=42)\n",
    ")"
   ]
  },
  {
   "cell_type": "code",
   "execution_count": 4,
   "id": "af750aaa1ad437d9",
   "metadata": {
    "ExecuteTime": {
     "end_time": "2024-01-15T12:54:57.536949Z",
     "start_time": "2024-01-15T12:54:52.511725Z"
    }
   },
   "outputs": [],
   "source": [
    "model = ModelSelector(engine=\"FlamlOptimizer\",\n",
    "                      engine_parameters=dict(time_budget=5))\n",
    "model.start(project)"
   ]
  },
  {
   "cell_type": "code",
   "execution_count": 5,
   "id": "63f097fa57aed229",
   "metadata": {
    "ExecuteTime": {
     "end_time": "2024-01-15T12:54:57.545479Z",
     "start_time": "2024-01-15T12:54:57.543230Z"
    }
   },
   "outputs": [],
   "source": [
    "checker = project.components[\"DeepCheck\"]"
   ]
  },
  {
   "cell_type": "code",
   "execution_count": 6,
   "id": "c53c5e4b0367c945",
   "metadata": {
    "ExecuteTime": {
     "end_time": "2024-01-15T12:54:57.803874Z",
     "start_time": "2024-01-15T12:54:57.546706Z"
    }
   },
   "outputs": [
    {
     "data": {
      "application/vnd.jupyter.widget-view+json": {
       "model_id": "300a6e5f1c654cca8168d694332e9186",
       "version_major": 2,
       "version_minor": 0
      },
      "text/plain": [
       "Accordion(children=(VBox(children=(HTML(value='\\n<h1 id=\"summary_CD829DTZWSNJIRWNWAMFPGB2D\">Checks on train an…"
      ]
     },
     "metadata": {},
     "output_type": "display_data"
    }
   ],
   "source": [
    "checker.train_test_checks_results"
   ]
  },
  {
   "cell_type": "code",
   "execution_count": 7,
   "id": "95998b6bac06baaf",
   "metadata": {
    "ExecuteTime": {
     "end_time": "2024-01-15T12:54:57.925889Z",
     "start_time": "2024-01-15T12:54:57.805250Z"
    }
   },
   "outputs": [
    {
     "data": {
      "application/vnd.jupyter.widget-view+json": {
       "model_id": "4cc6b337a1a14c49b2eb53cce9f23ead",
       "version_major": 2,
       "version_minor": 0
      },
      "text/plain": [
       "Accordion(children=(VBox(children=(HTML(value='\\n<h1 id=\"summary_AF8AUIK6P7ETIR1CBXAG3D2F1\">Checks on whole da…"
      ]
     },
     "metadata": {},
     "output_type": "display_data"
    }
   ],
   "source": [
    "checker.dataset_checks_results"
   ]
  },
  {
   "cell_type": "code",
   "execution_count": 8,
   "id": "bf606df8",
   "metadata": {
    "ExecuteTime": {
     "end_time": "2024-01-15T12:54:58.053511Z",
     "start_time": "2024-01-15T12:54:57.927114Z"
    }
   },
   "outputs": [
    {
     "data": {
      "text/plain": [
       "{'leakage': False, 'metric': 0.387037037037037}"
      ]
     },
     "execution_count": 8,
     "metadata": {},
     "output_type": "execute_result"
    }
   ],
   "source": [
    "project.components[\"Leakage\"].metrics"
   ]
  }
 ],
 "metadata": {
  "hide_input": false,
  "kernelspec": {
   "display_name": "Python 3 (ipykernel)",
   "language": "python",
   "name": "python3"
  },
  "language_info": {
   "codemirror_mode": {
    "name": "ipython",
    "version": 3
   },
   "file_extension": ".py",
   "mimetype": "text/x-python",
   "name": "python",
   "nbconvert_exporter": "python",
   "pygments_lexer": "ipython3",
   "version": "3.10.12"
  },
  "toc": {
   "base_numbering": 1,
   "nav_menu": {},
   "number_sections": true,
   "sideBar": true,
   "skip_h1_title": false,
   "title_cell": "Table of Contents",
   "title_sidebar": "Contents",
   "toc_cell": false,
   "toc_position": {},
   "toc_section_display": true,
   "toc_window_display": false
  },
  "varInspector": {
   "cols": {
    "lenName": 16,
    "lenType": 16,
    "lenVar": 40
   },
   "kernels_config": {
    "python": {
     "delete_cmd_postfix": "",
     "delete_cmd_prefix": "del ",
     "library": "var_list.py",
     "varRefreshCmd": "print(var_dic_list())"
    },
    "r": {
     "delete_cmd_postfix": ") ",
     "delete_cmd_prefix": "rm(",
     "library": "var_list.r",
     "varRefreshCmd": "cat(var_dic_list()) "
    }
   },
   "types_to_exclude": [
    "module",
    "function",
    "builtin_function_or_method",
    "instance",
    "_Feature"
   ],
   "window_display": false
  }
 },
 "nbformat": 4,
 "nbformat_minor": 5
}
