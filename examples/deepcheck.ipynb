{
 "cells": [
  {
   "cell_type": "code",
   "execution_count": 1,
   "id": "initial_id",
   "metadata": {
    "ExecuteTime": {
     "end_time": "2024-01-22T10:17:05.334980215Z",
     "start_time": "2024-01-22T10:17:05.334387459Z"
    }
   },
   "outputs": [],
   "source": [
    "%%capture\n",
    "cd .."
   ]
  },
  {
   "cell_type": "code",
   "execution_count": 2,
   "id": "13f6945fd3b104a7",
   "metadata": {
    "ExecuteTime": {
     "end_time": "2024-01-22T10:17:35.466606739Z",
     "start_time": "2024-01-22T10:17:05.334600818Z"
    }
   },
   "outputs": [],
   "source": [
    "%%capture\n",
    "import pandas as pd\n",
    "from tempfile import gettempdir\n",
    "\n",
    "from sklearn import model_selection\n",
    "from palma.datasets import load_credit_approval\n",
    "from palma import Project, ModelSelector\n",
    "from palma.components import DeepCheck, FileSystemLogger, Leakage\n",
    "from palma import set_logger\n",
    "\n",
    "# set_logger(FileSystemLogger(f'{gettempdir()}/fs-logger'))\n",
    "\n",
    "X, y = load_credit_approval()\n"
   ]
  },
  {
   "cell_type": "code",
   "execution_count": 10,
   "id": "c8753b3c",
   "metadata": {
    "ExecuteTime": {
     "end_time": "2024-01-22T11:03:20.144847150Z",
     "start_time": "2024-01-22T11:03:13.185508661Z"
    }
   },
   "outputs": [],
   "source": [
    "%%capture\n",
    "project = Project(problem=\"classification\", project_name=\"test\")\n",
    "project.add(DeepCheck(raise_on_fail=False))\n",
    "project.add(Leakage())\n",
    "project.start(\n",
    "    X, y,\n",
    "    splitter=model_selection.ShuffleSplit(\n",
    "        n_splits=10, random_state=42)\n",
    ")"
   ]
  },
  {
   "cell_type": "code",
   "execution_count": 11,
   "id": "af750aaa1ad437d9",
   "metadata": {
    "ExecuteTime": {
     "end_time": "2024-01-22T11:03:28.787023467Z",
     "start_time": "2024-01-22T11:03:23.751671881Z"
    }
   },
   "outputs": [],
   "source": [
    "model = ModelSelector(engine=\"FlamlOptimizer\",\n",
    "                      engine_parameters=dict(time_budget=5))\n",
    "model.start(project)"
   ]
  },
  {
   "cell_type": "code",
   "execution_count": 12,
   "id": "63f097fa57aed229",
   "metadata": {
    "ExecuteTime": {
     "end_time": "2024-01-22T11:03:28.797016634Z",
     "start_time": "2024-01-22T11:03:28.794453724Z"
    }
   },
   "outputs": [],
   "source": [
    "checker = project.components[\"DeepCheck\"]"
   ]
  },
  {
   "cell_type": "code",
   "execution_count": 13,
   "id": "c53c5e4b0367c945",
   "metadata": {
    "ExecuteTime": {
     "end_time": "2024-01-22T11:03:29.031757938Z",
     "start_time": "2024-01-22T11:03:28.797423401Z"
    }
   },
   "outputs": [
    {
     "data": {
      "application/vnd.jupyter.widget-view+json": {
       "model_id": "099c242347ca494e90bde10611f03336",
       "version_major": 2,
       "version_minor": 0
      },
      "text/plain": [
       "Accordion(children=(VBox(children=(HTML(value='\\n<h1 id=\"summary_NBF47SZ45XTV6PWJSL5E20GD1\">Checks on train an…"
      ]
     },
     "metadata": {},
     "output_type": "display_data"
    }
   ],
   "source": [
    "checker.train_test_checks_results"
   ]
  },
  {
   "cell_type": "code",
   "execution_count": 14,
   "id": "95998b6bac06baaf",
   "metadata": {
    "ExecuteTime": {
     "start_time": "2024-01-22T11:03:29.207641352Z"
    }
   },
   "outputs": [
    {
     "data": {
      "application/vnd.jupyter.widget-view+json": {
       "model_id": "df91a2ae306e41c181242252ea47bceb",
       "version_major": 2,
       "version_minor": 0
      },
      "text/plain": [
       "Accordion(children=(VBox(children=(HTML(value='\\n<h1 id=\"summary_EA2ZPBHAIM94KR15YBIKYI5ZP\">Checks on whole da…"
      ]
     },
     "metadata": {},
     "output_type": "display_data"
    }
   ],
   "source": [
    "checker.dataset_checks_results"
   ]
  },
  {
   "cell_type": "code",
   "execution_count": 15,
   "id": "bf606df8",
   "metadata": {
    "ExecuteTime": {
     "end_time": "2024-01-22T11:03:29.862507025Z",
     "start_time": "2024-01-22T11:03:29.835950070Z"
    }
   },
   "outputs": [
    {
     "data": {
      "text/plain": [
       "{'leakage': False, 'metric': 0.5320931791520027}"
      ]
     },
     "execution_count": 15,
     "metadata": {},
     "output_type": "execute_result"
    }
   ],
   "source": [
    "project.components[(\"L\"\n",
    "                    \"eakage\")].metrics"
   ]
  }
 ],
 "metadata": {
  "hide_input": false,
  "kernelspec": {
   "display_name": "Python 3 (ipykernel)",
   "language": "python",
   "name": "python3"
  },
  "language_info": {
   "codemirror_mode": {
    "name": "ipython",
    "version": 3
   },
   "file_extension": ".py",
   "mimetype": "text/x-python",
   "name": "python",
   "nbconvert_exporter": "python",
   "pygments_lexer": "ipython3",
   "version": "3.11.0"
  },
  "toc": {
   "base_numbering": 1,
   "nav_menu": {},
   "number_sections": true,
   "sideBar": true,
   "skip_h1_title": false,
   "title_cell": "Table of Contents",
   "title_sidebar": "Contents",
   "toc_cell": false,
   "toc_position": {},
   "toc_section_display": true,
   "toc_window_display": false
  },
  "varInspector": {
   "cols": {
    "lenName": 16,
    "lenType": 16,
    "lenVar": 40
   },
   "kernels_config": {
    "python": {
     "delete_cmd_postfix": "",
     "delete_cmd_prefix": "del ",
     "library": "var_list.py",
     "varRefreshCmd": "print(var_dic_list())"
    },
    "r": {
     "delete_cmd_postfix": ") ",
     "delete_cmd_prefix": "rm(",
     "library": "var_list.r",
     "varRefreshCmd": "cat(var_dic_list()) "
    }
   },
   "types_to_exclude": [
    "module",
    "function",
    "builtin_function_or_method",
    "instance",
    "_Feature"
   ],
   "window_display": false
  }
 },
 "nbformat": 4,
 "nbformat_minor": 5
}
