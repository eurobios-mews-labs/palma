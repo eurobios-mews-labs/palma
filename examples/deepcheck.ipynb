{
 "cells": [
  {
   "cell_type": "code",
   "execution_count": 1,
   "id": "initial_id",
   "metadata": {
    "collapsed": true,
    "ExecuteTime": {
     "end_time": "2024-01-12T12:36:37.102345018Z",
     "start_time": "2024-01-12T12:36:37.102027567Z"
    }
   },
   "outputs": [],
   "source": [
    "%%capture\n",
    "cd .."
   ]
  },
  {
   "cell_type": "code",
   "execution_count": 2,
   "outputs": [],
   "source": [
    "%%capture\n",
    "import pandas as pd\n",
    "from tempfile import gettempdir\n",
    "\n",
    "from sklearn import model_selection\n",
    "from palma.datasets import load_credit_approval\n",
    "from palma import Project, ModelSelector\n",
    "from palma.components import DeepCheck, FileSystemLogger\n",
    "from palma import set_logger\n",
    "\n",
    "set_logger(FileSystemLogger(f'{gettempdir()}/fs-logger'))\n",
    "\n",
    "X, y = load_credit_approval()\n",
    "project = Project(problem=\"classification\", project_name=\"test\")\n",
    "project.add(DeepCheck())\n",
    "project.start(\n",
    "    X, y,\n",
    "    splitter=model_selection.ShuffleSplit(n_splits=10, random_state=42),\n",
    ")\n"
   ],
   "metadata": {
    "collapsed": false,
    "ExecuteTime": {
     "end_time": "2024-01-12T12:36:43.414095598Z",
     "start_time": "2024-01-12T12:36:37.102273446Z"
    }
   },
   "id": "13f6945fd3b104a7"
  },
  {
   "cell_type": "code",
   "execution_count": 3,
   "outputs": [],
   "source": [
    "model = ModelSelector(engine=\"FlamlOptimizer\",\n",
    "                      engine_parameters=dict(time_budget=5))\n",
    "model.start(project)"
   ],
   "metadata": {
    "collapsed": false,
    "ExecuteTime": {
     "end_time": "2024-01-12T12:36:48.448894037Z",
     "start_time": "2024-01-12T12:36:43.509984181Z"
    }
   },
   "id": "af750aaa1ad437d9"
  },
  {
   "cell_type": "code",
   "execution_count": 4,
   "outputs": [],
   "source": [
    "checker = project.components[\"DeepCheck\"]"
   ],
   "metadata": {
    "collapsed": false,
    "ExecuteTime": {
     "end_time": "2024-01-12T12:36:48.457000513Z",
     "start_time": "2024-01-12T12:36:48.450738838Z"
    }
   },
   "id": "63f097fa57aed229"
  },
  {
   "cell_type": "code",
   "execution_count": 5,
   "outputs": [
    {
     "data": {
      "text/plain": "Accordion(children=(VBox(children=(HTML(value='\\n<h1 id=\"summary_5S23QM1SE067G37R6BYX6XGUU\">Checks on train an…",
      "application/vnd.jupyter.widget-view+json": {
       "version_major": 2,
       "version_minor": 0,
       "model_id": "0938973f890d4cebb27bb90251ee2b89"
      }
     },
     "metadata": {},
     "output_type": "display_data"
    }
   ],
   "source": [
    "checker.train_test_checks_results"
   ],
   "metadata": {
    "collapsed": false,
    "ExecuteTime": {
     "end_time": "2024-01-12T12:36:48.666301543Z",
     "start_time": "2024-01-12T12:36:48.452648171Z"
    }
   },
   "id": "c53c5e4b0367c945"
  },
  {
   "cell_type": "code",
   "execution_count": 6,
   "outputs": [
    {
     "data": {
      "text/plain": "Accordion(children=(VBox(children=(HTML(value='\\n<h1 id=\"summary_KOGPMW8X89Y6K9R7WCFRC2W7T\">Checks on whole da…",
      "application/vnd.jupyter.widget-view+json": {
       "version_major": 2,
       "version_minor": 0,
       "model_id": "a14d05248b0141f597f63c851ce1e8c4"
      }
     },
     "metadata": {},
     "output_type": "display_data"
    }
   ],
   "source": [
    "checker.dataset_checks_results"
   ],
   "metadata": {
    "collapsed": false,
    "ExecuteTime": {
     "start_time": "2024-01-12T12:36:48.816456015Z"
    }
   },
   "id": "95998b6bac06baaf"
  }
 ],
 "metadata": {
  "kernelspec": {
   "display_name": "Python 3",
   "language": "python",
   "name": "python3"
  },
  "language_info": {
   "codemirror_mode": {
    "name": "ipython",
    "version": 2
   },
   "file_extension": ".py",
   "mimetype": "text/x-python",
   "name": "python",
   "nbconvert_exporter": "python",
   "pygments_lexer": "ipython2",
   "version": "2.7.6"
  }
 },
 "nbformat": 4,
 "nbformat_minor": 5
}
