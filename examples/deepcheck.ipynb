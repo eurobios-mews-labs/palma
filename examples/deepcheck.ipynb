{
 "cells": [
  {
   "cell_type": "code",
   "execution_count": 1,
   "id": "initial_id",
   "metadata": {
    "ExecuteTime": {
     "end_time": "2024-01-12T12:36:37.102345018Z",
     "start_time": "2024-01-12T12:36:37.102027567Z"
    }
   },
   "outputs": [],
   "source": [
    "%%capture\n",
    "cd .."
   ]
  },
  {
   "cell_type": "code",
   "execution_count": 2,
   "id": "13f6945fd3b104a7",
   "metadata": {
    "ExecuteTime": {
     "end_time": "2024-01-12T12:36:43.414095598Z",
     "start_time": "2024-01-12T12:36:37.102273446Z"
    }
   },
   "outputs": [],
   "source": [
    "%%capture\n",
    "import pandas as pd\n",
    "from tempfile import gettempdir\n",
    "\n",
    "from sklearn import model_selection\n",
    "from palma.datasets import load_credit_approval\n",
    "from palma import Project, ModelSelector\n",
    "from palma.components import DeepCheck, FileSystemLogger, Leakage\n",
    "from palma import set_logger\n",
    "\n",
    "# set_logger(FileSystemLogger(f'{gettempdir()}/fs-logger'))\n",
    "\n",
    "X, y = load_credit_approval()\n"
   ]
  },
  {
   "cell_type": "code",
   "execution_count": 3,
   "id": "c8753b3c",
   "metadata": {},
   "outputs": [],
   "source": [
    "%%capture\n",
    "project = Project(problem=\"classification\", project_name=\"test\")\n",
    "project.add(DeepCheck())\n",
    "project.add(Leakage())\n",
    "project.start(\n",
    "    X, y,\n",
    "    splitter=model_selection.ShuffleSplit(\n",
    "        n_splits=10, random_state=42)\n",
    ")"
   ]
  },
  {
   "cell_type": "code",
   "execution_count": 4,
   "id": "af750aaa1ad437d9",
   "metadata": {
    "ExecuteTime": {
     "end_time": "2024-01-12T12:36:48.448894037Z",
     "start_time": "2024-01-12T12:36:43.509984181Z"
    }
   },
   "outputs": [],
   "source": [
    "model = ModelSelector(engine=\"FlamlOptimizer\",\n",
    "                      engine_parameters=dict(time_budget=5))\n",
    "model.start(project)"
   ]
  },
  {
   "cell_type": "code",
   "execution_count": 5,
   "id": "63f097fa57aed229",
   "metadata": {
    "ExecuteTime": {
     "end_time": "2024-01-12T12:36:48.457000513Z",
     "start_time": "2024-01-12T12:36:48.450738838Z"
    }
   },
   "outputs": [],
   "source": [
    "checker = project.components[\"DeepCheck\"]"
   ]
  },
  {
   "cell_type": "code",
   "execution_count": 6,
   "id": "c53c5e4b0367c945",
   "metadata": {
    "ExecuteTime": {
     "end_time": "2024-01-12T12:36:48.666301543Z",
     "start_time": "2024-01-12T12:36:48.452648171Z"
    }
   },
   "outputs": [
    {
     "data": {
      "application/vnd.jupyter.widget-view+json": {
       "model_id": "b2e4520e7ec44d1099dc7e64f74b5adc",
       "version_major": 2,
       "version_minor": 0
      },
      "text/plain": [
       "Accordion(children=(VBox(children=(HTML(value='\\n<h1 id=\"summary_IBMSWL7D0C2OVX2Z5Q7RNTXGD\">Checks on train an…"
      ]
     },
     "metadata": {},
     "output_type": "display_data"
    }
   ],
   "source": [
    "checker.train_test_checks_results"
   ]
  },
  {
   "cell_type": "code",
   "execution_count": 7,
   "id": "95998b6bac06baaf",
   "metadata": {
    "ExecuteTime": {
     "start_time": "2024-01-12T12:36:48.816456015Z"
    }
   },
   "outputs": [
    {
     "data": {
      "application/vnd.jupyter.widget-view+json": {
       "model_id": "585496dcfbe1457ab84300dd46e46ff7",
       "version_major": 2,
       "version_minor": 0
      },
      "text/plain": [
       "Accordion(children=(VBox(children=(HTML(value='\\n<h1 id=\"summary_2QQ8E21TW793UCS2YTHXYP924\">Checks on whole da…"
      ]
     },
     "metadata": {},
     "output_type": "display_data"
    }
   ],
   "source": [
    "checker.dataset_checks_results"
   ]
  },
  {
   "cell_type": "code",
   "execution_count": 10,
   "id": "bf606df8",
   "metadata": {},
   "outputs": [
    {
     "data": {
      "text/plain": [
       "{'leakage': False, 'metric': 0.5406249999999999}"
      ]
     },
     "execution_count": 10,
     "metadata": {},
     "output_type": "execute_result"
    }
   ],
   "source": [
    "project.components[\"Leakage\"].properties"
   ]
  }
 ],
 "metadata": {
  "kernelspec": {
   "display_name": "Python 3 (ipykernel)",
   "language": "python",
   "name": "python3"
  },
  "language_info": {
   "codemirror_mode": {
    "name": "ipython",
    "version": 3
   },
   "file_extension": ".py",
   "mimetype": "text/x-python",
   "name": "python",
   "nbconvert_exporter": "python",
   "pygments_lexer": "ipython3",
   "version": "3.11.0"
  }
 },
 "nbformat": 4,
 "nbformat_minor": 5
}
