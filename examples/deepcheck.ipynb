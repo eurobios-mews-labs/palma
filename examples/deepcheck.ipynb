{
 "cells": [
  {
   "cell_type": "code",
   "execution_count": 1,
   "id": "initial_id",
   "metadata": {
    "ExecuteTime": {
     "end_time": "2024-01-17T12:14:54.684328995Z",
     "start_time": "2024-01-17T12:14:54.676331202Z"
    }
   },
   "outputs": [],
   "source": [
    "%%capture\n",
    "cd .."
   ]
  },
  {
   "cell_type": "code",
   "execution_count": 2,
   "id": "13f6945fd3b104a7",
   "metadata": {
    "ExecuteTime": {
     "end_time": "2024-01-17T12:14:57.921177463Z",
     "start_time": "2024-01-17T12:14:54.676497329Z"
    }
   },
   "outputs": [],
   "source": [
    "%%capture\n",
    "import pandas as pd\n",
    "from tempfile import gettempdir\n",
    "\n",
    "from sklearn import model_selection\n",
    "from palma.datasets import load_credit_approval\n",
    "from palma import Project, ModelSelector\n",
    "from palma.components import DeepCheck, FileSystemLogger, Leakage\n",
    "from palma import set_logger\n",
    "\n",
    "# set_logger(FileSystemLogger(f'{gettempdir()}/fs-logger'))\n",
    "\n",
    "X, y = load_credit_approval()\n"
   ]
  },
  {
   "cell_type": "code",
   "execution_count": 3,
   "id": "c8753b3c",
   "metadata": {
    "ExecuteTime": {
     "end_time": "2024-01-17T12:15:06.392451087Z",
     "start_time": "2024-01-17T12:14:57.928390727Z"
    }
   },
   "outputs": [],
   "source": [
    "%%capture\n",
    "project = Project(problem=\"classification\", project_name=\"test\")\n",
    "project.add(DeepCheck())\n",
    "project.add(Leakage())\n",
    "project.start(\n",
    "    X, y,\n",
    "    splitter=model_selection.ShuffleSplit(\n",
    "        n_splits=10, random_state=42)\n",
    ")"
   ]
  },
  {
   "cell_type": "code",
   "execution_count": 4,
   "id": "af750aaa1ad437d9",
   "metadata": {
    "ExecuteTime": {
     "end_time": "2024-01-17T12:15:11.408465846Z",
     "start_time": "2024-01-17T12:15:06.394966585Z"
    }
   },
   "outputs": [],
   "source": [
    "model = ModelSelector(engine=\"FlamlOptimizer\",\n",
    "                      engine_parameters=dict(time_budget=5))\n",
    "model.start(project)"
   ]
  },
  {
   "cell_type": "code",
   "execution_count": 5,
   "id": "63f097fa57aed229",
   "metadata": {
    "ExecuteTime": {
     "end_time": "2024-01-17T12:15:11.420072204Z",
     "start_time": "2024-01-17T12:15:11.408358294Z"
    }
   },
   "outputs": [],
   "source": [
    "checker = project.components[\"DeepCheck\"]"
   ]
  },
  {
   "cell_type": "code",
   "execution_count": 6,
   "id": "c53c5e4b0367c945",
   "metadata": {
    "ExecuteTime": {
     "end_time": "2024-01-17T12:15:11.655100877Z",
     "start_time": "2024-01-17T12:15:11.414969677Z"
    }
   },
   "outputs": [
    {
     "data": {
      "text/plain": "Accordion(children=(VBox(children=(HTML(value='\\n<h1 id=\"summary_V634PMGICYE1CT27M63U6GG2S\">Checks on train an…",
      "application/vnd.jupyter.widget-view+json": {
       "version_major": 2,
       "version_minor": 0,
       "model_id": "1554ce92e7e74251bca6c0ef362cba21"
      }
     },
     "metadata": {},
     "output_type": "display_data"
    }
   ],
   "source": [
    "checker.train_test_checks_results"
   ]
  },
  {
   "cell_type": "code",
   "execution_count": 7,
   "id": "95998b6bac06baaf",
   "metadata": {
    "ExecuteTime": {
     "start_time": "2024-01-17T12:15:11.809471098Z"
    }
   },
   "outputs": [
    {
     "data": {
      "text/plain": "Accordion(children=(VBox(children=(HTML(value='\\n<h1 id=\"summary_HA8QSZT05V5MASJNJBFTEYZG8\">Checks on whole da…",
      "application/vnd.jupyter.widget-view+json": {
       "version_major": 2,
       "version_minor": 0,
       "model_id": "62329497e2b94a7e8d8d5c2ee2ca489d"
      }
     },
     "metadata": {},
     "output_type": "display_data"
    }
   ],
   "source": [
    "checker.dataset_checks_results"
   ]
  },
  {
   "cell_type": "code",
   "execution_count": 8,
   "id": "bf606df8",
   "metadata": {
    "ExecuteTime": {
     "start_time": "2024-01-17T12:15:11.952915817Z"
    }
   },
   "outputs": [
    {
     "data": {
      "text/plain": "{'leakage': False, 'metric': 0.5502049180327868}"
     },
     "execution_count": 8,
     "metadata": {},
     "output_type": "execute_result"
    }
   ],
   "source": [
    "project.components[\"Leakage\"].metrics"
   ]
  }
 ],
 "metadata": {
  "hide_input": false,
  "kernelspec": {
   "display_name": "Python 3 (ipykernel)",
   "language": "python",
   "name": "python3"
  },
  "language_info": {
   "codemirror_mode": {
    "name": "ipython",
    "version": 3
   },
   "file_extension": ".py",
   "mimetype": "text/x-python",
   "name": "python",
   "nbconvert_exporter": "python",
   "pygments_lexer": "ipython3",
   "version": "3.10.12"
  },
  "toc": {
   "base_numbering": 1,
   "nav_menu": {},
   "number_sections": true,
   "sideBar": true,
   "skip_h1_title": false,
   "title_cell": "Table of Contents",
   "title_sidebar": "Contents",
   "toc_cell": false,
   "toc_position": {},
   "toc_section_display": true,
   "toc_window_display": false
  },
  "varInspector": {
   "cols": {
    "lenName": 16,
    "lenType": 16,
    "lenVar": 40
   },
   "kernels_config": {
    "python": {
     "delete_cmd_postfix": "",
     "delete_cmd_prefix": "del ",
     "library": "var_list.py",
     "varRefreshCmd": "print(var_dic_list())"
    },
    "r": {
     "delete_cmd_postfix": ") ",
     "delete_cmd_prefix": "rm(",
     "library": "var_list.r",
     "varRefreshCmd": "cat(var_dic_list()) "
    }
   },
   "types_to_exclude": [
    "module",
    "function",
    "builtin_function_or_method",
    "instance",
    "_Feature"
   ],
   "window_display": false
  }
 },
 "nbformat": 4,
 "nbformat_minor": 5
}
