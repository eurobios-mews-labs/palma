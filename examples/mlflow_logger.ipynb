{
 "cells": [
  {
   "cell_type": "code",
   "execution_count": 1,
   "id": "84a35ef5",
   "metadata": {
    "ExecuteTime": {
     "end_time": "2024-01-10T15:58:48.826203Z",
     "start_time": "2024-01-10T15:58:48.821689Z"
    }
   },
   "outputs": [],
   "source": [
    "%%capture\n",
    "cd .."
   ]
  },
  {
   "cell_type": "code",
   "execution_count": 2,
   "id": "f3369348",
   "metadata": {
    "ExecuteTime": {
     "end_time": "2024-01-10T15:58:50.698024Z",
     "start_time": "2024-01-10T15:58:48.828352Z"
    }
   },
   "outputs": [],
   "source": [
    "import pandas as pd\n",
    "from tempfile import gettempdir\n",
    "\n",
    "from sklearn import model_selection\n",
    "from sklearn.datasets import make_classification\n",
    "from palma import Project, ModelSelector\n",
    "from palma import components\n",
    "from palma import set_logger, logger\n",
    "set_logger(components.MLFlowLogger(f'{gettempdir()}/mlflow-logger'))\n",
    "X, y = make_classification(n_informative=2, n_features=30)\n",
    "X, y = pd.DataFrame(X), pd.Series(y).astype(bool)\n",
    "project = Project(problem=\"classification\", project_name=\"test\")\n",
    "project.start(\n",
    "    X, y,\n",
    "    splitter=model_selection.ShuffleSplit(n_splits=10, random_state=42),\n",
    ")"
   ]
  },
  {
   "cell_type": "code",
   "execution_count": 3,
   "id": "87b66bf2",
   "metadata": {
    "ExecuteTime": {
     "end_time": "2024-01-10T15:58:55.738175Z",
     "start_time": "2024-01-10T15:58:50.699705Z"
    }
   },
   "outputs": [],
   "source": [
    "model = ModelSelector(engine=\"FlamlOptimizer\",\n",
    "                      engine_parameters=dict(time_budget=5))\n",
    "model.start(project)"
   ]
  },
  {
   "cell_type": "code",
   "execution_count": 5,
   "id": "6cecbf02",
   "metadata": {
    "ExecuteTime": {
     "end_time": "2024-01-10T15:58:57.808655Z",
     "start_time": "2024-01-10T15:58:57.779815Z"
    }
   },
   "outputs": [
    {
     "data": {
      "text/plain": [
       "'/tmp/mlflow-logger'"
      ]
     },
     "execution_count": 5,
     "metadata": {},
     "output_type": "execute_result"
    }
   ],
   "source": [
    "logger.logger.uri"
   ]
  }
 ],
 "metadata": {
  "hide_input": false,
  "kernelspec": {
   "display_name": "Python 3 (ipykernel)",
   "language": "python",
   "name": "python3"
  },
  "language_info": {
   "codemirror_mode": {
    "name": "ipython",
    "version": 3
   },
   "file_extension": ".py",
   "mimetype": "text/x-python",
   "name": "python",
   "nbconvert_exporter": "python",
   "pygments_lexer": "ipython3",
   "version": "3.10.12"
  },
  "toc": {
   "base_numbering": 1,
   "nav_menu": {},
   "number_sections": true,
   "sideBar": true,
   "skip_h1_title": false,
   "title_cell": "Table of Contents",
   "title_sidebar": "Contents",
   "toc_cell": false,
   "toc_position": {},
   "toc_section_display": true,
   "toc_window_display": false
  },
  "varInspector": {
   "cols": {
    "lenName": 16,
    "lenType": 16,
    "lenVar": 40
   },
   "kernels_config": {
    "python": {
     "delete_cmd_postfix": "",
     "delete_cmd_prefix": "del ",
     "library": "var_list.py",
     "varRefreshCmd": "print(var_dic_list())"
    },
    "r": {
     "delete_cmd_postfix": ") ",
     "delete_cmd_prefix": "rm(",
     "library": "var_list.r",
     "varRefreshCmd": "cat(var_dic_list()) "
    }
   },
   "types_to_exclude": [
    "module",
    "function",
    "builtin_function_or_method",
    "instance",
    "_Feature"
   ],
   "window_display": false
  }
 },
 "nbformat": 4,
 "nbformat_minor": 5
}
